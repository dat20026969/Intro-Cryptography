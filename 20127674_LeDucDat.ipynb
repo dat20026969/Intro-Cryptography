{
  "nbformat": 4,
  "nbformat_minor": 0,
  "metadata": {
    "colab": {
      "provenance": [],
      "collapsed_sections": []
    },
    "kernelspec": {
      "name": "python3",
      "display_name": "Python 3"
    },
    "language_info": {
      "name": "python"
    }
  },
  "cells": [
    {
      "cell_type": "code",
      "execution_count": 17,
      "metadata": {
        "id": "XOs-6XuOaGwI",
        "colab": {
          "base_uri": "https://localhost:8080/"
        },
        "outputId": "3a4562d1-b446-4099-8785-70cb72af161a"
      },
      "outputs": [
        {
          "output_type": "stream",
          "name": "stdout",
          "text": [
            "Nhập đoạn văn bản vào đây: Thông tin tuyển thực tập sinh  Bộ phận thực tập Công ty TMA Solutions xin gửi đến Quý Nhà trường thông báo tuyển sinh viên thực tập Khóa 38 (thời gian thực tập bắt đầu từ tháng 10/2022). Kính mong Quý Nhà trường hỗ trợ thông báo đến cho các bạn sinh viên.  Sinh viên có nguyện vọng thực tập tại TMA Solutions, vui lòng gửi hồ sơ bản mềm về địa chỉ email intern@tma.com.vn trước ngày 31/10/2022, hồ sơ bao gồm:  - CV tiếng Anh  - Giấy giới thiệu và bảng điểm mới nhất có xác nhận của nhà trường  - Chứng chỉ TOEIC/IELTS (nếu có)  Thông tin chi tiết xin liên hệ: Huyền Trân, sđt 02838912532  Xin chân thành cảm ơn sự hỗ trợ của Nhà trường.\n",
            "Email:  ['intern@tma.com.vn']\n",
            "Do dai cua chuoi email: \n",
            "17\n",
            "SDT:  ['0283891253']\n",
            "Do dai cua chuoi sdt:  10\n"
          ]
        }
      ],
      "source": [
        "import unicodedata\n",
        "import re\n",
        "import os\n",
        "\n",
        "encodings = ['ascii','utf-8','utf-16']\n",
        "\n",
        "vb = input(\"Nhập đoạn văn bản vào đây: \")\n",
        "# mystring=list(vb)\n",
        "email = re.findall(r'\\w+@[\\w.]+', vb)\n",
        "# vt1 = email.index(mystring)\n",
        "# print(vt1)\n",
        "sdt = re.findall(r'(\\d{3}\\d{3}\\d{4})', vb)\n",
        "# vt2 = email.index(mystring)\n",
        "# print(vt2)\n",
        "print(\"Email: \", email)\n",
        "print(\"Do dai cua chuoi email: \")\n",
        "print(len(email[0]))\n",
        "print(\"SDT: \", sdt)\n",
        "print(\"Do dai cua chuoi sdt: \", len(sdt[0]))"
      ]
    }
  ]
}